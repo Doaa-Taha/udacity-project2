{
 "cells": [
  {
   "cell_type": "code",
   "execution_count": 1,
   "id": "e39981ed",
   "metadata": {},
   "outputs": [],
   "source": [
    "import hashlib"
   ]
  },
  {
   "cell_type": "code",
   "execution_count": 2,
   "id": "3e0f4194",
   "metadata": {},
   "outputs": [],
   "source": [
    "class Block:\n",
    "\n",
    "    def __init__(self, timestamp, data, previous = None):\n",
    "        self.timestamp = timestamp\n",
    "        self.data = data\n",
    "        self.previous = previous\n",
    "        self.next = None\n",
    "        self.hash = self.calc_hash()\n",
    "        \n",
    "        \n",
    "    def calc_hash(self):\n",
    "        sha = hashlib.sha256()\n",
    "\n",
    "        hash_str = self.data.encode('utf-8')\n",
    "\n",
    "        sha.update(hash_str)\n",
    "\n",
    "        return sha.hexdigest()\n"
   ]
  },
  {
   "cell_type": "code",
   "execution_count": 3,
   "id": "dfb37c2d",
   "metadata": {},
   "outputs": [],
   "source": [
    "class BlockChain:\n",
    "    \n",
    "    def __init__(self):\n",
    "        self.head = None\n",
    "        self.tail = None\n",
    "    \n",
    "    def append_block(self, timestamp, data):\n",
    "        if self.head is None:\n",
    "            self.head = Block(timestamp, data)\n",
    "            self.tail = self.head \n",
    "            return self.tail.hash\n",
    "\n",
    "        self.tail.next = Block(timestamp, data, self.tail.hash)\n",
    "        self.tail.next.previous = self.tail.hash\n",
    "        self.tail = self.tail.next\n",
    "        return self.tail.hash\n",
    "    \n",
    "    "
   ]
  },
  {
   "cell_type": "code",
   "execution_count": 5,
   "id": "6d127667",
   "metadata": {},
   "outputs": [
    {
     "name": "stdout",
     "output_type": "stream",
     "text": [
      "72ec491eda38786bc6ef291c9690a15ce01e09d307a807dea47c239eeaea1334\n",
      "bf6865eaf8f6bfae88b5df349c3ae406cf4708378d530afcb9cd00df33c0a110\n",
      "e3b0c44298fc1c149afbf4c8996fb92427ae41e4649b934ca495991b7852b855\n",
      "f8f17111270379ed40ac404a6aa1b3eadac335de1fff1ce4b0299169f7940219\n"
     ]
    }
   ],
   "source": [
    "block_chain = BlockChain()\n",
    "\n",
    "\n",
    "## Test Case 1\n",
    "print(block_chain.append_block(\"2023-09-10\", \"test adding block one\"))\n",
    "\n",
    "## Test Case 2\n",
    "print(block_chain.append_block(\"2023-09-11\", \"test adding block two\"))\n",
    "\n",
    "## Test Case 3\n",
    "print(block_chain.append_block(\"2023-09-12\", \"\"))\n",
    "\n",
    "## Test Case 4\n",
    "print(block_chain.append_block(\"2023-09-13\", \"Lorem ipsum dolor sit amet, consectetur adipiscing elit. Nam ut pharetra nisl. Sed auctor, nulla a feugiat semper, nunc dolor porta nunc, eu ultricies odio massa ac mi. Duis varius efficitur ex, eu ultrices mauris aliquam ac. Proin ultrices justo purus, vitae tempor felis aliquet et. Donec elementum ornare mi, et auctor ligula bibendum ac. Nunc iaculis ipsum in urna hendrerit, ut viverra velit auctor. Integer scelerisque, dui nec ultricies volutpat, nisi nibh dapibus magna, sed facilisis eros odio id libero. In ac felis a tortor vehicula sodales. Aenean blandit elit ut tellus malesuada, in varius tortor venenatis. Duis sed est a lacus placerat viverra ut nec sapien.\"))\n",
    "\n",
    "# TODO : add more tests that checks if the current tail.previous hash == "
   ]
  },
  {
   "cell_type": "code",
   "execution_count": null,
   "id": "da77acc9",
   "metadata": {},
   "outputs": [],
   "source": []
  }
 ],
 "metadata": {
  "kernelspec": {
   "display_name": "Python 3 (ipykernel)",
   "language": "python",
   "name": "python3"
  },
  "language_info": {
   "codemirror_mode": {
    "name": "ipython",
    "version": 3
   },
   "file_extension": ".py",
   "mimetype": "text/x-python",
   "name": "python",
   "nbconvert_exporter": "python",
   "pygments_lexer": "ipython3",
   "version": "3.11.3"
  }
 },
 "nbformat": 4,
 "nbformat_minor": 5
}
