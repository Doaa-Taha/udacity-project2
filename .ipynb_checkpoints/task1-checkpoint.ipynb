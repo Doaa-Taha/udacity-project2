{
 "cells": [
  {
   "cell_type": "markdown",
   "id": "2ecd8db7",
   "metadata": {},
   "source": [
    "- use a queue with the last item is the newest\n",
    "- before appending the last used item, we have to remove it first from the queue and then adding it again at the last position.\n",
    "- the table in the cache will be a dictionary, the keys of the dictionary are the "
   ]
  },
  {
   "cell_type": "code",
   "execution_count": 52,
   "id": "93607413",
   "metadata": {},
   "outputs": [],
   "source": [
    "from collections import deque\n",
    "\n",
    "class Queue:\n",
    "    def __init__(self):\n",
    "        self.storage = deque()\n",
    "    \n",
    "    def size(self):\n",
    "        return len(self.storage)\n",
    "    \n",
    "    def enque(self, key):\n",
    "        self.storage.append(key)\n",
    "        \n",
    "    def remove_oldest(self):\n",
    "        if self.size() > 0:\n",
    "            return self.storage.popleft()\n",
    "    \n",
    "    def remove(self, key):\n",
    "        self.storage.remove(key)\n",
    "        \n",
    "    def is_key_present(self, key):\n",
    "        return key in self.storage\n",
    "        "
   ]
  },
  {
   "cell_type": "code",
   "execution_count": 53,
   "id": "3662e132",
   "metadata": {
    "scrolled": true
   },
   "outputs": [],
   "source": [
    "class LRU_Cache(object):\n",
    "\n",
    "    def __init__(self, capacity):\n",
    "        # Initialize class variables\n",
    "        self.table = {}\n",
    "        self.queue = Queue()\n",
    "        self.capacity = capacity\n",
    "        self.num_entries = 0\n",
    "    \n",
    "    def is_empty(self):\n",
    "        return self.size == 0\n",
    "        \n",
    "        pass\n",
    "\n",
    "    def get(self, key):\n",
    "        # Retrieve item from provided key. Return -1 if nonexistent.  \n",
    "        if key in self.table:\n",
    "            self.queue.remove(key)\n",
    "            self.queue.enque(key)\n",
    "            return self.table[key]\n",
    "                    \n",
    "        return -1\n",
    "        pass\n",
    "\n",
    "    def put(self, key, value):\n",
    "        if key in self.table:\n",
    "            print(\"the key {} is already present with value {}\".format(key, self.table[key]))\n",
    "        else:\n",
    "            if self.num_entries < self.capacity:\n",
    "                self.table[key] = value  \n",
    "                self.num_entries += 1\n",
    "                self.queue.enque(key)\n",
    "            else:\n",
    "                less_used = self.queue.remove_oldest()\n",
    "                del self.table[less_used]\n",
    "                self.table[key] = value\n",
    "                self.queue.enque(key)\n",
    "                \n",
    "\n",
    "                "
   ]
  },
  {
   "cell_type": "code",
   "execution_count": 54,
   "id": "88c798d4",
   "metadata": {},
   "outputs": [
    {
     "name": "stdout",
     "output_type": "stream",
     "text": [
      "pass\n",
      "pass\n",
      "pass\n"
     ]
    }
   ],
   "source": [
    "our_cache = LRU_Cache(5)\n",
    "\n",
    "our_cache.put(1, 1);\n",
    "our_cache.put(2, 2);\n",
    "our_cache.put(3, 3);\n",
    "our_cache.put(4, 4);\n",
    "\n",
    "our_cache.get(1)    # returns 1\n",
    "our_cache.get(2)    # returns 2\n",
    "our_cache.get(9)    # returns -1 because 9 is not present in the cache\n",
    "\n",
    "our_cache.put(5, 5) \n",
    "our_cache.put(6, 6)\n",
    "our_cache.get(3)      # returns -1 because the cache reached it's capacity and 3 was the least recently used entry\n",
    "\n",
    "## Add your own test cases: include at least three test cases\n",
    "## and two of them must include edge cases, such as null, empty or very large values\n",
    "\n",
    "## Test Case 1\n",
    "value_returned = our_cache.get(7)\n",
    "print(\"pass\" if value_returned == -1 else \"fail\")\n",
    "\n",
    "## Test Case 2\n",
    "new_cache = LRU_Cache(5)\n",
    "new_cache.put(1, 1);\n",
    "new_cache.put(2, 2);\n",
    "new_cache.put(3, 3);\n",
    "new_cache.put(4, 4);\n",
    "new_cache.put(5, 5);\n",
    "new_cache.put(6, 6);\n",
    "value = new_cache.get(1)\n",
    "print(\"pass\" if value == -1 else \"fail\")\n",
    "\n",
    "## Test Case 3\n",
    "test_cache = LRU_Cache(1)\n",
    "test_cache.put(1, 1)\n",
    "test_cache.put(2, 2)\n",
    "num_entries = test_cache.num_entries\n",
    "print(\"pass\" if num_entries == 1 and test_cache.get(2)==2 else \"fail\")"
   ]
  },
  {
   "cell_type": "code",
   "execution_count": null,
   "id": "453640a6",
   "metadata": {},
   "outputs": [],
   "source": []
  }
 ],
 "metadata": {
  "kernelspec": {
   "display_name": "Python 3 (ipykernel)",
   "language": "python",
   "name": "python3"
  },
  "language_info": {
   "codemirror_mode": {
    "name": "ipython",
    "version": 3
   },
   "file_extension": ".py",
   "mimetype": "text/x-python",
   "name": "python",
   "nbconvert_exporter": "python",
   "pygments_lexer": "ipython3",
   "version": "3.11.3"
  }
 },
 "nbformat": 4,
 "nbformat_minor": 5
}
