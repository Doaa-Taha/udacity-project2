{
 "cells": [
  {
   "cell_type": "code",
   "execution_count": 30,
   "id": "ce2c8141",
   "metadata": {},
   "outputs": [
    {
     "ename": "TypeError",
     "evalue": "Node.__init__() missing 2 required positional arguments: 'char' and 'frequency'",
     "output_type": "error",
     "traceback": [
      "\u001b[1;31m---------------------------------------------------------------------------\u001b[0m",
      "\u001b[1;31mTypeError\u001b[0m                                 Traceback (most recent call last)",
      "Cell \u001b[1;32mIn[30], line 17\u001b[0m\n\u001b[0;32m     14\u001b[0m         \u001b[38;5;28;01mif\u001b[39;00m \u001b[38;5;28mself\u001b[39m\u001b[38;5;241m.\u001b[39mright \u001b[38;5;129;01mis\u001b[39;00m \u001b[38;5;129;01mnot\u001b[39;00m \u001b[38;5;28;01mNone\u001b[39;00m:\n\u001b[0;32m     15\u001b[0m             \u001b[38;5;28mself\u001b[39m\u001b[38;5;241m.\u001b[39mright\u001b[38;5;241m.\u001b[39mencode_node(code \u001b[38;5;241m+\u001b[39m \u001b[38;5;124m'\u001b[39m\u001b[38;5;124m1\u001b[39m\u001b[38;5;124m'\u001b[39m)\n\u001b[1;32m---> 17\u001b[0m root \u001b[38;5;241m=\u001b[39m Node()\n",
      "\u001b[1;31mTypeError\u001b[0m: Node.__init__() missing 2 required positional arguments: 'char' and 'frequency'"
     ]
    }
   ],
   "source": [
    "class Node:\n",
    "    def __init__(self, char, frequency, left=None, right=None):\n",
    "        self.char = char\n",
    "        self.frequency = frequency\n",
    "        self.left = left\n",
    "        self.right = right\n",
    "        self.code = ''\n",
    "        \n",
    "#   this function recursively traverses the whole tree to assign code value for each node, it assigns '0' for the left child and '1' for the right child\n",
    "    def encode_node(self, code):\n",
    "        self.code = code\n",
    "        if self.left is not None:\n",
    "            self.left.encode_node(code + '0')\n",
    "        if self.right is not None:\n",
    "            self.right.encode_node(code + '1')\n",
    "\n",
    "root = Node()"
   ]
  },
  {
   "cell_type": "code",
   "execution_count": null,
   "id": "c3107ec9",
   "metadata": {},
   "outputs": [],
   "source": [
    "class Heap:\n",
    "    def __init__(self):\n",
    "        self.cbt = []  # initialize arrays\n",
    "        self.next_index = 0  # denotes next index where new element should go\n",
    "\n",
    "    def insert(self, node):\n",
    "        # insert element at the next index\n",
    "        self.cbt.append(node)\n",
    "\n",
    "        # heapify\n",
    "        self._up_heapify()\n",
    "\n",
    "        # increase index by 1\n",
    "        self.next_index += 1\n",
    "\n",
    "\n",
    "    def remove(self):\n",
    "        \n",
    "        if self.size() == 0:\n",
    "            return None\n",
    "        \n",
    "        to_remove = self.cbt.pop(0)\n",
    "        self.next_index -= 1\n",
    "#         last_element = self.cbt[self.next_index -1]\n",
    "\n",
    "        return to_remove\n",
    "\n",
    "    def size(self):\n",
    "        return self.next_index \n",
    "\n",
    "    def _up_heapify(self): # up_heapify rearranges the heap according to the frequency value of the node \n",
    "        \n",
    "        child_index = self.next_index\n",
    "\n",
    "        while child_index >= 1:\n",
    "            parent_index = (child_index - 1) // 2\n",
    "            parent_element = self.cbt[parent_index]\n",
    "            child_element = self.cbt[child_index]\n",
    "\n",
    "            if parent_element.frequency > child_element.frequency:\n",
    "                self.cbt[parent_index] = child_element\n",
    "                self.cbt[child_index] = parent_element\n",
    "\n",
    "                child_index = parent_index\n",
    "            else:\n",
    "                break\n",
    "\n",
    "\n"
   ]
  },
  {
   "cell_type": "code",
   "execution_count": 32,
   "id": "cbb91997",
   "metadata": {},
   "outputs": [
    {
     "name": "stdout",
     "output_type": "stream",
     "text": [
      "00 01\n"
     ]
    }
   ],
   "source": [
    "import sys\n",
    "\n",
    "freq_table = {}\n",
    "#   step 1:  build the huffman tree using a min heap\n",
    "def huffman_tree(data):\n",
    "    # first get each character with its frequency\n",
    "    for char in data:\n",
    "        if char in freq_table:\n",
    "            freq_table[char] += 1\n",
    "        else:\n",
    "            freq_table[char] = 1\n",
    "            \n",
    "    # second build the heap \n",
    "    dict_to_arr = list(freq_table.items())\n",
    "    sorted_arr = sorted(dict_to_arr, key=lambda x: x[1])\n",
    "    priority_q = Heap()\n",
    "    for item in sorted_arr:\n",
    "        node = Node(item[0], item[1])\n",
    "        priority_q.insert(node)\n",
    "#     print([(item.char, item.frequency) for item in priority_q.cbt])\n",
    "    \n",
    "#     build the huffman tree from the heap by removing 2 items with the lowest frequency and create a new internal node haaving a combined frequency of the 2 removed items\n",
    "    while len(priority_q.cbt) > 1:\n",
    "        node1 = priority_q.remove()\n",
    "        node2 = priority_q.remove()\n",
    "        if node1 is None or node2 is None:\n",
    "            break\n",
    "        combined_freq = node1.frequency + node2.frequency\n",
    "        combined_node = Node(None, combined_freq, left=node1, right=node2) # combined node does't have a character \n",
    "        priority_q.insert(combined_node)\n",
    "        \n",
    "    return priority_q.cbt \n",
    "\n",
    "#   step2: encode the data\n",
    "    # to encode the data we need to call the huffman tree on the data which will return the periority queue having one element which is the root for the whole tree\n",
    "def huffman_encoding(data):\n",
    "    tree = huffman_tree(data)\n",
    "    tree_root = tree[0]\n",
    "    tree_root.encode_node(\"\") # start assigning codes from the root which itself will not be assigned any binary code\n",
    "    print(tree_root.left.left.code, tree_root.left.right.code)\n",
    "\n",
    "huffman_encoding(\"The bird is the word\")\n",
    "\n",
    "\n",
    "def huffman_decoding(data,tree):\n",
    "    pass\n",
    "\n",
    "\n",
    "## Test Case 1\n",
    "\n",
    "## Test Case 2\n",
    "\n",
    "## Test Case 3"
   ]
  },
  {
   "cell_type": "code",
   "execution_count": null,
   "id": "eacfcd2e",
   "metadata": {},
   "outputs": [],
   "source": []
  },
  {
   "cell_type": "code",
   "execution_count": null,
   "id": "694d795f",
   "metadata": {},
   "outputs": [],
   "source": []
  }
 ],
 "metadata": {
  "kernelspec": {
   "display_name": "Python 3 (ipykernel)",
   "language": "python",
   "name": "python3"
  },
  "language_info": {
   "codemirror_mode": {
    "name": "ipython",
    "version": 3
   },
   "file_extension": ".py",
   "mimetype": "text/x-python",
   "name": "python",
   "nbconvert_exporter": "python",
   "pygments_lexer": "ipython3",
   "version": "3.11.3"
  }
 },
 "nbformat": 4,
 "nbformat_minor": 5
}
