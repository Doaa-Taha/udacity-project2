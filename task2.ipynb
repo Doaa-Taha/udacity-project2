{
 "cells": [
  {
   "cell_type": "code",
   "execution_count": 23,
   "id": "d5647d6e",
   "metadata": {},
   "outputs": [],
   "source": [
    "import os\n",
    "\n",
    "def find_files(suffix, path):\n",
    "    \"\"\"\n",
    "    Find all files beneath path with file name suffix.\n",
    "\n",
    "    Note that a path may contain further subdirectories\n",
    "    and those subdirectories may also contain further subdirectories.\n",
    "\n",
    "    There are no limit to the depth of the subdirectories can be.\n",
    "\n",
    "    Args:\n",
    "      suffix(str): suffix if the file name to be found\n",
    "      path(str): path of the file system\n",
    "\n",
    "    Returns:\n",
    "       a list of paths\n",
    "    \"\"\"\n",
    "    files = []     # a container for the files with the required suffix\n",
    "    if not os.path.isdir(path):\n",
    "        return \"Invalid directory path\"\n",
    "        \n",
    "    for item in os.listdir(path):  # iterate over the items in the directory\n",
    "        path_of_item = os.path.join(path, item)   # a variable to hold the complete path of a file/directory in the test directory\n",
    "        \n",
    "        if os.path.isfile(path_of_item): # if the type of item in the directory is file\n",
    "            if item.endswith(suffix): # check its extension if it meets the suffix required\n",
    "                files.append(path_of_item)    # if true add it to the files array\n",
    "        \n",
    "        if os.path.isdir(path_of_item):     # if the type of item in the directory is another directory \n",
    "            files.extend(find_files(suffix, path_of_item))  # repeat the whole process on it using recursion\n",
    "            \n",
    "    return files\n",
    "\n"
   ]
  },
  {
   "cell_type": "code",
   "execution_count": 24,
   "id": "064b9722",
   "metadata": {},
   "outputs": [
    {
     "name": "stdout",
     "output_type": "stream",
     "text": [
      "['./testdir/subdir1\\\\a.c']\n"
     ]
    }
   ],
   "source": [
    "## Test Case 1\n",
    "test1 = find_files(\".c\", \"./testdir/subdir1\")\n",
    "print(test1)"
   ]
  },
  {
   "cell_type": "code",
   "execution_count": 25,
   "id": "1a818233",
   "metadata": {},
   "outputs": [
    {
     "name": "stdout",
     "output_type": "stream",
     "text": [
      "['./testdir\\\\subdir1\\\\a.c', './testdir\\\\subdir3\\\\subsubdir1\\\\b.c', './testdir\\\\subdir5\\\\a.c', './testdir\\\\t1.c']\n"
     ]
    }
   ],
   "source": [
    "## Test Case 2\n",
    "test2 = find_files(\".c\", \"./testdir\")\n",
    "print(test2)"
   ]
  },
  {
   "cell_type": "code",
   "execution_count": 26,
   "id": "fe92c590",
   "metadata": {},
   "outputs": [
    {
     "name": "stdout",
     "output_type": "stream",
     "text": [
      "[]\n"
     ]
    }
   ],
   "source": [
    "## Test Case 3   # invalid extension\n",
    "test3 = find_files(\".md\", \"./testdir\")\n",
    "print(test3)"
   ]
  },
  {
   "cell_type": "code",
   "execution_count": 29,
   "id": "d4828fd1",
   "metadata": {},
   "outputs": [
    {
     "name": "stdout",
     "output_type": "stream",
     "text": [
      "Invalid directory path\n",
      "Invalid directory path\n"
     ]
    }
   ],
   "source": [
    "## Test Case 4   # invalid path\n",
    "print(find_files(\".exe\", \"./testdir/abc\"))\n",
    "print(find_files('.h', \"./testdir\" + '/abc'))"
   ]
  },
  {
   "cell_type": "code",
   "execution_count": null,
   "id": "bd4687d5",
   "metadata": {},
   "outputs": [],
   "source": []
  }
 ],
 "metadata": {
  "kernelspec": {
   "display_name": "Python 3 (ipykernel)",
   "language": "python",
   "name": "python3"
  },
  "language_info": {
   "codemirror_mode": {
    "name": "ipython",
    "version": 3
   },
   "file_extension": ".py",
   "mimetype": "text/x-python",
   "name": "python",
   "nbconvert_exporter": "python",
   "pygments_lexer": "ipython3",
   "version": "3.11.4"
  }
 },
 "nbformat": 4,
 "nbformat_minor": 5
}
