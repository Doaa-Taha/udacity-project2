{
 "cells": [
  {
   "cell_type": "code",
   "execution_count": 28,
   "id": "d5647d6e",
   "metadata": {},
   "outputs": [],
   "source": [
    "import os\n",
    "\n",
    "def find_files(suffix, path):\n",
    "    \"\"\"\n",
    "    Find all files beneath path with file name suffix.\n",
    "\n",
    "    Note that a path may contain further subdirectories\n",
    "    and those subdirectories may also contain further subdirectories.\n",
    "\n",
    "    There are no limit to the depth of the subdirectories can be.\n",
    "\n",
    "    Args:\n",
    "      suffix(str): suffix if the file name to be found\n",
    "      path(str): path of the file system\n",
    "\n",
    "    Returns:\n",
    "       a list of paths\n",
    "    \"\"\"\n",
    "    files = []     # a container for the files with the required suffix\n",
    "    \n",
    "    for item in os.listdir(path):\n",
    "        path_of_item = os.path.join(path, item)\n",
    "        \n",
    "        if os.path.isfile(path_of_item):\n",
    "            if item.endswith(suffix):\n",
    "                files.append(item)\n",
    "        \n",
    "        if os.path.isdir(path_of_item):\n",
    "            files.extend(find_files(suffix, path_of_item)) \n",
    "            \n",
    "    return files\n",
    "\n"
   ]
  },
  {
   "cell_type": "code",
   "execution_count": 31,
   "id": "064b9722",
   "metadata": {},
   "outputs": [
    {
     "name": "stdout",
     "output_type": "stream",
     "text": [
      "pass\n"
     ]
    }
   ],
   "source": [
    "## Test Case 1\n",
    "test1 = find_files(\".c\", \"./testdir/subdir1\")\n",
    "print(\"pass\" if test1 == ['a.c'] else \"fail\")"
   ]
  },
  {
   "cell_type": "code",
   "execution_count": 32,
   "id": "1a818233",
   "metadata": {},
   "outputs": [
    {
     "name": "stdout",
     "output_type": "stream",
     "text": [
      "pass\n"
     ]
    }
   ],
   "source": [
    "## Test Case 2\n",
    "test2 = find_files(\".c\", \"./testdir\")\n",
    "print(\"pass\" if test2 == ['a.c', 'b.c', 'a.c', 't1.c'] else \"fail\")"
   ]
  },
  {
   "cell_type": "code",
   "execution_count": 34,
   "id": "fe92c590",
   "metadata": {},
   "outputs": [
    {
     "name": "stdout",
     "output_type": "stream",
     "text": [
      "pass\n"
     ]
    }
   ],
   "source": [
    "## Test Case 3\n",
    "test3 = find_files(\".md\", \"./testdir\")\n",
    "print(\"pass\" if test3 == [] else \"fail\")"
   ]
  },
  {
   "cell_type": "code",
   "execution_count": null,
   "id": "d4828fd1",
   "metadata": {},
   "outputs": [],
   "source": []
  }
 ],
 "metadata": {
  "kernelspec": {
   "display_name": "Python 3 (ipykernel)",
   "language": "python",
   "name": "python3"
  },
  "language_info": {
   "codemirror_mode": {
    "name": "ipython",
    "version": 3
   },
   "file_extension": ".py",
   "mimetype": "text/x-python",
   "name": "python",
   "nbconvert_exporter": "python",
   "pygments_lexer": "ipython3",
   "version": "3.11.4"
  }
 },
 "nbformat": 4,
 "nbformat_minor": 5
}
